{
 "cells": [
  {
   "cell_type": "code",
   "execution_count": 3,
   "metadata": {
    "collapsed": true
   },
   "outputs": [],
   "source": [
    "%matplotlib inline\n",
    "\n",
    "from matplotlib import pyplot as plt\n",
    "from matplotlib import patches as mpatches\n",
    "import numpy as np\n",
    "import pandas as pd\n",
    "import math\n",
    "import sys\n",
    "\n",
    "import matplotlib.pyplot as plt\n",
    "from mpl_toolkits.mplot3d import Axes3D"
   ]
  },
  {
   "cell_type": "code",
   "execution_count": 4,
   "metadata": {
    "collapsed": true
   },
   "outputs": [],
   "source": [
    "def plot_projections(ts, points, method_name):\n",
    "    fig, ax = plt.subplots(figsize=(40, 40))\n",
    "    ax.set_xlim([ts.min(), ts.max()])\n",
    "    ax.set_ylim([points.min(), points.max()])\n",
    "    \n",
    "    red_patch = mpatches.Patch(color='red', label='X trajectory')\n",
    "    green_patch = mpatches.Patch(color='green', label='Y trajectory ')\n",
    "    blue_patch = mpatches.Patch(color='blue', label='Z trajectory')\n",
    "    \n",
    "    plt.legend(handles=[red_patch, green_patch, blue_patch], prop={'size':30}, loc=2)\n",
    "    plt.title(method_name, size=30)\n",
    "    ax.scatter(ts, points[:, 0], color='red', marker=',')\n",
    "    ax.scatter(ts, points[:, 1], color='green', marker=',')\n",
    "    ax.scatter(ts, points[:, 2], color='blue', marker=',')\n",
    "    \n",
    "def plot3D(points, method_name):\n",
    "    fig = plt.figure()\n",
    "    ax = fig.add_subplot(111, projection='3d')\n",
    "    ax.plot(points[:,0],points[:,1],points[:,2])"
   ]
  },
  {
   "cell_type": "code",
   "execution_count": 16,
   "metadata": {},
   "outputs": [
    {
     "data": {
      "text/plain": [
       "array([ 10.,  -7.,   4.])"
      ]
     },
     "execution_count": 16,
     "metadata": {},
     "output_type": "execute_result"
    }
   ],
   "source": [
    "sigma = 10\n",
    "b = 8.0/3\n",
    "r=24\n",
    "#r in [0..30]\n",
    "#dx/dt=-sigma*x+sigma*y\n",
    "#dy/dt=-x*z+r*x-y\n",
    "#dz/dt=x*y-b*z\n",
    "def f(vec): \n",
    "    x,y,z=vec\n",
    "    return np.array([-sigma*x+sigma*y, -x*z+r*x-y, x*y-b*z])\n",
    "start_x=np.array([10.0, -7.0, 4.0])\n",
    "start_x"
   ]
  },
  {
   "cell_type": "code",
   "execution_count": 28,
   "metadata": {
    "collapsed": true
   },
   "outputs": [],
   "source": [
    "def converge_to(method, start_x):\n",
    "    ts, points = method(start_x)\n",
    "    return points[-1]"
   ]
  },
  {
   "cell_type": "code",
   "execution_count": 17,
   "metadata": {
    "collapsed": true
   },
   "outputs": [],
   "source": [
    "def euler_method(start_x, t_a=0, t_b=100, dt=0.001):\n",
    "    cur_t = t_a\n",
    "    cur_x = np.copy(start_x)\n",
    "    ts = [cur_t]\n",
    "    way = [cur_x]\n",
    "    while cur_t <= t_b:\n",
    "        cur_x += f(cur_x)*dt\n",
    "        cur_t += dt\n",
    "        way.append(np.copy(cur_x))\n",
    "        ts.append(cur_t)\n",
    "    return (np.array(ts), np.array(way))\n",
    "\n",
    "def runge_kutta_method(start_x, t_a=0, t_b=100, dt=0.001):\n",
    "    cur_t = t_a\n",
    "    cur_x = np.copy(start_x)\n",
    "    ts = [cur_t]\n",
    "    way = [cur_x]\n",
    "    while cur_t <= t_b:\n",
    "        k1 = f(cur_x)\n",
    "        k2 = f(cur_x+dt*0.5*k1)\n",
    "        k3 = f(cur_x+dt*0.5*k2)\n",
    "        k4 = f(cur_x+dt*k3)\n",
    "        cur_x = cur_x+dt/6*(k1+2*k2+2*k3+k4)\n",
    "        cur_t += dt\n",
    "        way.append(np.copy(cur_x))\n",
    "        ts.append(cur_t)\n",
    "    return (np.array(ts), np.array(way))\n"
   ]
  },
  {
   "cell_type": "code",
   "execution_count": 18,
   "metadata": {
    "collapsed": true
   },
   "outputs": [],
   "source": [
    "EPS = 1e-9\n",
    "\n",
    "def solve_cubic_equation(u, y0): # solves y=u(y) using Newton\n",
    "    h = np.polysub(u, np.array([1, 0]))\n",
    "    dh = np.polyder(h)\n",
    "    \n",
    "    cur_y = y0\n",
    "    next_y = cur_y - np.polyval(h, cur_y) / np.polyval(dh, cur_y)\n",
    "    while (np.abs(np.polyval(h, cur_y)) > EPS):\n",
    "        cur_y = np.copy(next_y)\n",
    "        next_y = cur_y - np.polyval(h, cur_y) / np.polyval(dh, cur_y)\n",
    "    return cur_y\n",
    "\n",
    "def solve_system_equality(cur_x, dt):\n",
    "    x0, y0, z0 = cur_x\n",
    "    ax = np.array([dt*sigma, x0]) / (1+dt*sigma)\n",
    "     \n",
    "    az = np.polyadd(np.polymul(ax, np.array([1, 0]))*dt, \n",
    "                    np.array([z0])) / (1+dt*b)    \n",
    "    \n",
    "    # y=y0-dt*ax*az+dt*r*ax\n",
    "    fixy = np.array([0,y0])\n",
    "    fixy = np.polysub(fixy, dt*np.polymul(ax,az))\n",
    "    fixy = np.polyadd(fixy, dt*r*ax)\n",
    "    fixy = np.polysub(fixy, np.array([dt, 0]))\n",
    "    \n",
    "    ny = solve_cubic_equation(fixy, y0)\n",
    "    nx = np.polyval(ax, ny)\n",
    "    nz = np.polyval(az, ny)\n",
    "    result = np.array([nx, ny, nz])\n",
    "    return result\n",
    "\n",
    "def implicit_euler_method(start_x, t_a=0, t_b=20, dt=0.001):\n",
    "    cur_t = t_a\n",
    "    cur_x = np.copy(start_x)\n",
    "    ts = [cur_t]\n",
    "    way = [cur_x]\n",
    "    while cur_t <= t_b:\n",
    "        cur_x = solve_system_equality(cur_x, dt)\n",
    "        cur_t += dt\n",
    "        way.append(np.copy(cur_x))\n",
    "        ts.append(cur_t)\n",
    "    return (np.array(ts), np.array(way))"
   ]
  },
  {
   "cell_type": "code",
   "execution_count": 23,
   "metadata": {
    "collapsed": true
   },
   "outputs": [],
   "source": [
    "def adams_method(start_x, t_a=0, t_b=100, dt=0.001):\n",
    "    cur_t = t_a\n",
    "    cur_x = np.copy(start_x)\n",
    "    ts = [cur_t]\n",
    "    way = [cur_x]\n",
    "    while cur_t <= t_b:\n",
    "        if len(way) <= 4:\n",
    "            cur_x += f(cur_x)*dt\n",
    "            cur_t += dt\n",
    "        else:\n",
    "            p0, p1, p2, p3 = map(f, way[-4:])\n",
    "            pred = cur_x + (dt/24) * (55*p0-59*p1+37*p2-9*p3)\n",
    "            p_1 = f(pred)\n",
    "            corr = cur_x + (dt/24) * (9*p_1+19*p0-5*p1+p2)\n",
    "            cur_x = np.copy(corr)\n",
    "            cur_t += dt\n",
    "        way.append(np.copy(cur_x))\n",
    "        ts.append(cur_t)\n",
    "            \n",
    "    return (np.array(ts), np.array(way))"
   ]
  },
  {
   "cell_type": "code",
   "execution_count": 36,
   "metadata": {},
   "outputs": [],
   "source": [
    "def final_points(method, start_x):\n",
    "    global r\n",
    "    for r_id in range(100):\n",
    "        r = 30.0 * r_id / 100\n",
    "        x, y, z = converge_to(method, start_x)\n",
    "        print(\"%.2f converjed to (%.3f %3.f %3.f)\" % (r, x, y, z))"
   ]
  },
  {
   "cell_type": "code",
   "execution_count": null,
   "metadata": {},
   "outputs": [],
   "source": [
    "final_points(euler_method, start_x)"
   ]
  },
  {
   "cell_type": "code",
   "execution_count": null,
   "metadata": {},
   "outputs": [],
   "source": [
    "plot_projections(ts, points, \"Euler method\")"
   ]
  },
  {
   "cell_type": "code",
   "execution_count": null,
   "metadata": {},
   "outputs": [],
   "source": [
    "plot3D(points,'Adams method')"
   ]
  },
  {
   "cell_type": "code",
   "execution_count": 15,
   "metadata": {
    "collapsed": true
   },
   "outputs": [],
   "source": [
    "np.savetxt(\"data.csv\", points, delimiter=' ')"
   ]
  },
  {
   "cell_type": "code",
   "execution_count": 11,
   "metadata": {},
   "outputs": [
    {
     "data": {
      "text/plain": [
       "array([ 0, -1, -3])"
      ]
     },
     "execution_count": 11,
     "metadata": {},
     "output_type": "execute_result"
    }
   ],
   "source": [
    "np.polysub(np.array([1,0]), np.array([0,2,3]))"
   ]
  },
  {
   "cell_type": "code",
   "execution_count": 98,
   "metadata": {
    "collapsed": true
   },
   "outputs": [],
   "source": [
    "ts, points = implicit_euler_method(start_x)"
   ]
  },
  {
   "cell_type": "code",
   "execution_count": 92,
   "metadata": {},
   "outputs": [
    {
     "name": "stdout",
     "output_type": "stream",
     "text": [
      "[ -0.22539444  -0.04507889  22.63410969   2.36363636]\n",
      "[-0.00840345 -0.10924379  0.00025037]\n",
      "[-0.00840345 -0.10924379  0.00025037]\n"
     ]
    },
    {
     "data": {
      "text/plain": [
       "array([-0.00840345, -0.10924379,  0.00025037])"
      ]
     },
     "execution_count": 92,
     "metadata": {},
     "output_type": "execute_result"
    }
   ],
   "source": [
    "cur_x=np.array([1,0,0])\n",
    "solve_system_equality(cur_x, 1.0)"
   ]
  },
  {
   "cell_type": "code",
   "execution_count": null,
   "metadata": {
    "collapsed": true
   },
   "outputs": [],
   "source": [
    "x=(10/11)*y\n",
    "z=(30/121)*y^2\n",
    "xz="
   ]
  }
 ],
 "metadata": {
  "kernelspec": {
   "display_name": "Python 3",
   "language": "python",
   "name": "python3"
  },
  "language_info": {
   "codemirror_mode": {
    "name": "ipython",
    "version": 3
   },
   "file_extension": ".py",
   "mimetype": "text/x-python",
   "name": "python",
   "nbconvert_exporter": "python",
   "pygments_lexer": "ipython3",
   "version": "3.5.2"
  }
 },
 "nbformat": 4,
 "nbformat_minor": 2
}
